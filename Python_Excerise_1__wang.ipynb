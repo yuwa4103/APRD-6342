{
  "nbformat": 4,
  "nbformat_minor": 0,
  "metadata": {
    "kernelspec": {
      "display_name": "Python 3",
      "language": "python",
      "name": "python3"
    },
    "language_info": {
      "codemirror_mode": {
        "name": "ipython",
        "version": 3
      },
      "file_extension": ".py",
      "mimetype": "text/x-python",
      "name": "python",
      "nbconvert_exporter": "python",
      "pygments_lexer": "ipython3",
      "version": "3.7.4"
    },
    "colab": {
      "name": "Python Excerise 1 _wang.ipynb",
      "provenance": []
    }
  },
  "cells": [
    {
      "cell_type": "code",
      "metadata": {
        "id": "RHiYAVuwWy80",
        "colab_type": "code",
        "outputId": "8d719b99-c599-41f0-ee8a-e5390d451929",
        "colab": {
          "base_uri": "https://localhost:8080/",
          "height": 161
        }
      },
      "source": [
        "!pip install arrow\n",
        "!pip install sklearn\n",
        "import pandas as pd\n",
        "import arrow\n",
        "import statsmodels.api as sm\n",
        "from sklearn import linear_model"
      ],
      "execution_count": 0,
      "outputs": [
        {
          "output_type": "stream",
          "text": [
            "Requirement already satisfied: arrow in /usr/local/lib/python3.6/dist-packages (0.15.4)\n",
            "Requirement already satisfied: python-dateutil in /usr/local/lib/python3.6/dist-packages (from arrow) (2.6.1)\n",
            "Requirement already satisfied: six>=1.5 in /usr/local/lib/python3.6/dist-packages (from python-dateutil->arrow) (1.12.0)\n",
            "Requirement already satisfied: sklearn in /usr/local/lib/python3.6/dist-packages (0.0)\n",
            "Requirement already satisfied: scikit-learn in /usr/local/lib/python3.6/dist-packages (from sklearn) (0.21.3)\n",
            "Requirement already satisfied: joblib>=0.11 in /usr/local/lib/python3.6/dist-packages (from scikit-learn->sklearn) (0.14.0)\n",
            "Requirement already satisfied: scipy>=0.17.0 in /usr/local/lib/python3.6/dist-packages (from scikit-learn->sklearn) (1.3.2)\n",
            "Requirement already satisfied: numpy>=1.11.0 in /usr/local/lib/python3.6/dist-packages (from scikit-learn->sklearn) (1.17.4)\n"
          ],
          "name": "stdout"
        }
      ]
    },
    {
      "cell_type": "code",
      "metadata": {
        "id": "S4YN58bIIAYq",
        "colab_type": "code",
        "colab": {}
      },
      "source": [
        ""
      ],
      "execution_count": 0,
      "outputs": []
    },
    {
      "cell_type": "code",
      "metadata": {
        "id": "rnKi1KcMWy9G",
        "colab_type": "code",
        "outputId": "b0165b5b-cc43-41e5-d08e-344aeda2d779",
        "colab": {
          "base_uri": "https://localhost:8080/",
          "height": 546
        }
      },
      "source": [
        "import pandas as pd\n",
        "\n",
        "DATA_URL = 'http://128.138.93.164/aprd6342/data/TravelPonyFacebook.csv'\n",
        "df = pd.read_csv(DATA_URL)\n",
        "df.head(10)"
      ],
      "execution_count": 0,
      "outputs": [
        {
          "output_type": "execute_result",
          "data": {
            "text/html": [
              "<div>\n",
              "<style scoped>\n",
              "    .dataframe tbody tr th:only-of-type {\n",
              "        vertical-align: middle;\n",
              "    }\n",
              "\n",
              "    .dataframe tbody tr th {\n",
              "        vertical-align: top;\n",
              "    }\n",
              "\n",
              "    .dataframe thead th {\n",
              "        text-align: right;\n",
              "    }\n",
              "</style>\n",
              "<table border=\"1\" class=\"dataframe\">\n",
              "  <thead>\n",
              "    <tr style=\"text-align: right;\">\n",
              "      <th></th>\n",
              "      <th>Start Date</th>\n",
              "      <th>End Date</th>\n",
              "      <th>Account</th>\n",
              "      <th>Campaign Name</th>\n",
              "      <th>Reach</th>\n",
              "      <th>Frequency</th>\n",
              "      <th>Impressions</th>\n",
              "      <th>Clicks</th>\n",
              "      <th>Unique Clicks</th>\n",
              "      <th>Amount Spent (USD)</th>\n",
              "      <th>Page Likes</th>\n",
              "      <th>Page Engagement</th>\n",
              "      <th>Post Engagement</th>\n",
              "      <th>Post Likes</th>\n",
              "      <th>Post Comments</th>\n",
              "      <th>Post Shares</th>\n",
              "      <th>Photo Views</th>\n",
              "      <th>Website Clicks</th>\n",
              "      <th>Cost per Page Like (USD)</th>\n",
              "      <th>Cost per Page Engagement (USD)</th>\n",
              "    </tr>\n",
              "  </thead>\n",
              "  <tbody>\n",
              "    <tr>\n",
              "      <th>0</th>\n",
              "      <td>2013-12-02</td>\n",
              "      <td>2013-12-02</td>\n",
              "      <td>Bob Jackson</td>\n",
              "      <td>Cyber Weekend</td>\n",
              "      <td>278117</td>\n",
              "      <td>2.314303</td>\n",
              "      <td>643647</td>\n",
              "      <td>336</td>\n",
              "      <td>313</td>\n",
              "      <td>300.00</td>\n",
              "      <td>3</td>\n",
              "      <td>246</td>\n",
              "      <td>243</td>\n",
              "      <td>0</td>\n",
              "      <td>0</td>\n",
              "      <td>0</td>\n",
              "      <td>0</td>\n",
              "      <td>243</td>\n",
              "      <td>100.000000</td>\n",
              "      <td>1.219512</td>\n",
              "    </tr>\n",
              "    <tr>\n",
              "      <th>1</th>\n",
              "      <td>2013-12-01</td>\n",
              "      <td>2013-12-01</td>\n",
              "      <td>Bob Jackson</td>\n",
              "      <td>Cyber Weekend</td>\n",
              "      <td>221255</td>\n",
              "      <td>2.079090</td>\n",
              "      <td>460009</td>\n",
              "      <td>376</td>\n",
              "      <td>348</td>\n",
              "      <td>300.00</td>\n",
              "      <td>6</td>\n",
              "      <td>215</td>\n",
              "      <td>209</td>\n",
              "      <td>0</td>\n",
              "      <td>0</td>\n",
              "      <td>0</td>\n",
              "      <td>0</td>\n",
              "      <td>209</td>\n",
              "      <td>50.000000</td>\n",
              "      <td>1.395349</td>\n",
              "    </tr>\n",
              "    <tr>\n",
              "      <th>2</th>\n",
              "      <td>2013-11-30</td>\n",
              "      <td>2013-11-30</td>\n",
              "      <td>Bob Jackson</td>\n",
              "      <td>Cyber Weekend</td>\n",
              "      <td>267915</td>\n",
              "      <td>2.499069</td>\n",
              "      <td>669538</td>\n",
              "      <td>383</td>\n",
              "      <td>345</td>\n",
              "      <td>300.00</td>\n",
              "      <td>2</td>\n",
              "      <td>252</td>\n",
              "      <td>250</td>\n",
              "      <td>0</td>\n",
              "      <td>0</td>\n",
              "      <td>0</td>\n",
              "      <td>0</td>\n",
              "      <td>250</td>\n",
              "      <td>150.000000</td>\n",
              "      <td>1.190476</td>\n",
              "    </tr>\n",
              "    <tr>\n",
              "      <th>3</th>\n",
              "      <td>2013-11-29</td>\n",
              "      <td>2013-11-29</td>\n",
              "      <td>Bob Jackson</td>\n",
              "      <td>Cyber Weekend</td>\n",
              "      <td>280332</td>\n",
              "      <td>2.365406</td>\n",
              "      <td>663099</td>\n",
              "      <td>301</td>\n",
              "      <td>275</td>\n",
              "      <td>300.00</td>\n",
              "      <td>3</td>\n",
              "      <td>257</td>\n",
              "      <td>254</td>\n",
              "      <td>0</td>\n",
              "      <td>0</td>\n",
              "      <td>0</td>\n",
              "      <td>0</td>\n",
              "      <td>254</td>\n",
              "      <td>100.000000</td>\n",
              "      <td>1.167315</td>\n",
              "    </tr>\n",
              "    <tr>\n",
              "      <th>4</th>\n",
              "      <td>2013-11-22</td>\n",
              "      <td>2013-11-22</td>\n",
              "      <td>Bob Jackson</td>\n",
              "      <td>TravelPony: General Ads</td>\n",
              "      <td>14269</td>\n",
              "      <td>1.000420</td>\n",
              "      <td>14275</td>\n",
              "      <td>64</td>\n",
              "      <td>61</td>\n",
              "      <td>35.18</td>\n",
              "      <td>2</td>\n",
              "      <td>14</td>\n",
              "      <td>12</td>\n",
              "      <td>0</td>\n",
              "      <td>0</td>\n",
              "      <td>0</td>\n",
              "      <td>0</td>\n",
              "      <td>12</td>\n",
              "      <td>17.590000</td>\n",
              "      <td>2.512857</td>\n",
              "    </tr>\n",
              "    <tr>\n",
              "      <th>5</th>\n",
              "      <td>2013-11-22</td>\n",
              "      <td>2013-11-22</td>\n",
              "      <td>Bob Jackson</td>\n",
              "      <td>TravelPony: Conversion Test</td>\n",
              "      <td>7096</td>\n",
              "      <td>1.018743</td>\n",
              "      <td>7229</td>\n",
              "      <td>32</td>\n",
              "      <td>32</td>\n",
              "      <td>45.01</td>\n",
              "      <td>2</td>\n",
              "      <td>5</td>\n",
              "      <td>3</td>\n",
              "      <td>0</td>\n",
              "      <td>0</td>\n",
              "      <td>0</td>\n",
              "      <td>0</td>\n",
              "      <td>3</td>\n",
              "      <td>22.505000</td>\n",
              "      <td>9.002000</td>\n",
              "    </tr>\n",
              "    <tr>\n",
              "      <th>6</th>\n",
              "      <td>2013-11-21</td>\n",
              "      <td>2013-11-21</td>\n",
              "      <td>Bob Jackson</td>\n",
              "      <td>TravelPony: Conversion Test</td>\n",
              "      <td>29437</td>\n",
              "      <td>1.000000</td>\n",
              "      <td>29437</td>\n",
              "      <td>100</td>\n",
              "      <td>80</td>\n",
              "      <td>200.00</td>\n",
              "      <td>10</td>\n",
              "      <td>43</td>\n",
              "      <td>33</td>\n",
              "      <td>0</td>\n",
              "      <td>0</td>\n",
              "      <td>0</td>\n",
              "      <td>0</td>\n",
              "      <td>33</td>\n",
              "      <td>20.000000</td>\n",
              "      <td>4.651163</td>\n",
              "    </tr>\n",
              "    <tr>\n",
              "      <th>7</th>\n",
              "      <td>2013-11-21</td>\n",
              "      <td>2013-11-21</td>\n",
              "      <td>Bob Jackson</td>\n",
              "      <td>TravelPony: General Ads</td>\n",
              "      <td>30320</td>\n",
              "      <td>1.018239</td>\n",
              "      <td>30873</td>\n",
              "      <td>178</td>\n",
              "      <td>157</td>\n",
              "      <td>98.09</td>\n",
              "      <td>5</td>\n",
              "      <td>50</td>\n",
              "      <td>45</td>\n",
              "      <td>0</td>\n",
              "      <td>0</td>\n",
              "      <td>0</td>\n",
              "      <td>0</td>\n",
              "      <td>45</td>\n",
              "      <td>19.618000</td>\n",
              "      <td>1.961800</td>\n",
              "    </tr>\n",
              "    <tr>\n",
              "      <th>8</th>\n",
              "      <td>2013-11-20</td>\n",
              "      <td>2013-11-20</td>\n",
              "      <td>Bob Jackson</td>\n",
              "      <td>TravelPony: Conversion Test</td>\n",
              "      <td>25951</td>\n",
              "      <td>1.026820</td>\n",
              "      <td>26647</td>\n",
              "      <td>133</td>\n",
              "      <td>113</td>\n",
              "      <td>200.00</td>\n",
              "      <td>8</td>\n",
              "      <td>50</td>\n",
              "      <td>42</td>\n",
              "      <td>0</td>\n",
              "      <td>0</td>\n",
              "      <td>0</td>\n",
              "      <td>0</td>\n",
              "      <td>42</td>\n",
              "      <td>25.000000</td>\n",
              "      <td>4.000000</td>\n",
              "    </tr>\n",
              "    <tr>\n",
              "      <th>9</th>\n",
              "      <td>2013-11-20</td>\n",
              "      <td>2013-11-20</td>\n",
              "      <td>Bob Jackson</td>\n",
              "      <td>TravelPony: General Ads</td>\n",
              "      <td>49038</td>\n",
              "      <td>1.000000</td>\n",
              "      <td>49038</td>\n",
              "      <td>324</td>\n",
              "      <td>276</td>\n",
              "      <td>178.77</td>\n",
              "      <td>13</td>\n",
              "      <td>112</td>\n",
              "      <td>99</td>\n",
              "      <td>0</td>\n",
              "      <td>0</td>\n",
              "      <td>0</td>\n",
              "      <td>0</td>\n",
              "      <td>99</td>\n",
              "      <td>13.751538</td>\n",
              "      <td>1.596161</td>\n",
              "    </tr>\n",
              "  </tbody>\n",
              "</table>\n",
              "</div>"
            ],
            "text/plain": [
              "   Start Date  ... Cost per Page Engagement (USD)\n",
              "0  2013-12-02  ...                       1.219512\n",
              "1  2013-12-01  ...                       1.395349\n",
              "2  2013-11-30  ...                       1.190476\n",
              "3  2013-11-29  ...                       1.167315\n",
              "4  2013-11-22  ...                       2.512857\n",
              "5  2013-11-22  ...                       9.002000\n",
              "6  2013-11-21  ...                       4.651163\n",
              "7  2013-11-21  ...                       1.961800\n",
              "8  2013-11-20  ...                       4.000000\n",
              "9  2013-11-20  ...                       1.596161\n",
              "\n",
              "[10 rows x 20 columns]"
            ]
          },
          "metadata": {
            "tags": []
          },
          "execution_count": 30
        }
      ]
    },
    {
      "cell_type": "markdown",
      "metadata": {
        "id": "WTURdCHbWy9N",
        "colab_type": "text"
      },
      "source": [
        "# 1. Create the analytics 'cost per impression' by dividing Amount Spent / Impressions"
      ]
    },
    {
      "cell_type": "code",
      "metadata": {
        "id": "mIFQqtGXWy9P",
        "colab_type": "code",
        "outputId": "8f757a4b-0c29-4ce9-ab13-57496861ceb3",
        "colab": {
          "base_uri": "https://localhost:8080/",
          "height": 197
        }
      },
      "source": [
        "# create a new column CPI and calculate the same using amount spent/impressions\n",
        "df['Cost Per Impression'] = df['Amount Spent (USD)'] / df['Impressions']\n",
        "#empty list dayofweek\n",
        "dayofweek = []\n",
        "#Extract the day of the weeek as a numerical value from the start date field and store it in the list dayOfWeek\n",
        "for i, row in df.iterrows():\n",
        "    \n",
        "    x = (arrow.get(str(df['Start Date'][i]), 'YYYY-MM-DD')).format('dddd')\n",
        "    \n",
        "    dayofweek.append(x)\n",
        "    ##dt = arrow.get(row['Start Date'], 'YYYY-MM-DD').reset_index()\n",
        "    ##x = dt.isoweekday()\n",
        "    ##dayOfWeek.append(x)\n",
        "\n",
        "\n",
        "#Calculate the best and worst days of the week based on the mean of CPI   \n",
        "df['Day of Week'] = dayofweek\n",
        "r = pd.DataFrame(df.groupby(['Day of Week']).mean()['Cost Per Impression'].sort_values(ascending=False)).reset_index()\n",
        "print(r)\n",
        "print(r['Day of Week'][6],\"works best.\")\n",
        "print(r['Day of Week'][0],\"works worst.\")"
      ],
      "execution_count": 0,
      "outputs": [
        {
          "output_type": "stream",
          "text": [
            "  Day of Week  Cost Per Impression\n",
            "0      Friday             0.004097\n",
            "1      Sunday             0.003688\n",
            "2    Thursday             0.003398\n",
            "3     Tuesday             0.003040\n",
            "4   Wednesday             0.002981\n",
            "5      Monday             0.002910\n",
            "6    Saturday             0.002629\n",
            "Saturday works best.\n",
            "Friday works worst.\n"
          ],
          "name": "stdout"
        }
      ]
    },
    {
      "cell_type": "markdown",
      "metadata": {
        "id": "rt6BHc8XWy9T",
        "colab_type": "text"
      },
      "source": [
        "# 2.Compute the correlations"
      ]
    },
    {
      "cell_type": "code",
      "metadata": {
        "id": "Fnr3Y0v0Wy9U",
        "colab_type": "code",
        "outputId": "05c86092-2f07-49fa-8080-4f6080124129",
        "colab": {
          "base_uri": "https://localhost:8080/",
          "height": 251
        }
      },
      "source": [
        "# compute the correlations\n",
        "data_corr=df.corr()\n",
        "reach_amtSpent=data_corr['Reach']['Amount Spent (USD)']\n",
        "freq_amtSpent=data_corr['Frequency']['Amount Spent (USD)']\n",
        "unqClicks_amtSpent=data_corr['Unique Clicks']['Amount Spent (USD)']\n",
        "pgLikes_amtSpent=data_corr['Page Likes']['Amount Spent (USD)']\n",
        "data={'variable':['Reach','Frequency','Unique Clicks','Page Likes'],'correlation':[reach_amtSpent,freq_amtSpent,unqClicks_amtSpent,pgLikes_amtSpent]}\n",
        "corr_df=pd.DataFrame(data,columns=['variable','correlation'])\n",
        "\n",
        "print(df[['Amount Spent (USD)','Reach']].corr())\n",
        "print(df[['Amount Spent (USD)','Frequency']].corr())\n",
        "print(df[['Amount Spent (USD)','Unique Clicks']].corr())\n",
        "print(df[['Amount Spent (USD)','Page Likes']].corr())\n",
        "print(\"There is the srtongest correlation between Amount Spent (USD) and\", corr_df['variable'][corr_df['correlation'].idxmax()],\"=\",corr_df['correlation'][corr_df['correlation'].idxmax()])"
      ],
      "execution_count": 0,
      "outputs": [
        {
          "output_type": "stream",
          "text": [
            "                    Amount Spent (USD)     Reach\n",
            "Amount Spent (USD)            1.000000  0.703124\n",
            "Reach                         0.703124  1.000000\n",
            "                    Amount Spent (USD)  Frequency\n",
            "Amount Spent (USD)            1.000000   0.130201\n",
            "Frequency                     0.130201   1.000000\n",
            "                    Amount Spent (USD)  Unique Clicks\n",
            "Amount Spent (USD)            1.000000       0.882993\n",
            "Unique Clicks                 0.882993       1.000000\n",
            "                    Amount Spent (USD)  Page Likes\n",
            "Amount Spent (USD)            1.000000    0.757612\n",
            "Page Likes                    0.757612    1.000000\n",
            "There is the srtongest correlation between Amount Spent (USD) and Unique Clicks = 0.8829931774784341\n"
          ],
          "name": "stdout"
        }
      ]
    },
    {
      "cell_type": "code",
      "metadata": {
        "id": "pnK4CbvZWy9Y",
        "colab_type": "code",
        "outputId": "b57cd1f7-12d7-490c-ed3e-da4d27d60e5c",
        "colab": {
          "base_uri": "https://localhost:8080/",
          "height": 179
        }
      },
      "source": [
        "# summary the correlations\n",
        "print(df[['Amount Spent (USD)','Reach','Frequency','Unique Clicks','Page Likes']].corr())\n",
        "print(\"The correlation between Amount Spent and Unique Clicks is the strongest with the value of 0.882993. Practically speaking, more unique clicks will most significantly increase the amount spent. \")"
      ],
      "execution_count": 0,
      "outputs": [
        {
          "output_type": "stream",
          "text": [
            "                    Amount Spent (USD)     Reach  ...  Unique Clicks  Page Likes\n",
            "Amount Spent (USD)            1.000000  0.703124  ...       0.882993    0.757612\n",
            "Reach                         0.703124  1.000000  ...       0.722249    0.304388\n",
            "Frequency                     0.130201  0.334101  ...       0.135103    0.000182\n",
            "Unique Clicks                 0.882993  0.722249  ...       1.000000    0.584614\n",
            "Page Likes                    0.757612  0.304388  ...       0.584614    1.000000\n",
            "\n",
            "[5 rows x 5 columns]\n",
            "The correlation between Amount Spent and Unique Clicks is the strongest with the value of 0.882993. Practically speaking, more unique clicks will most significantly increase the amount spent. \n"
          ],
          "name": "stdout"
        }
      ]
    },
    {
      "cell_type": "markdown",
      "metadata": {
        "id": "Y68OqAInWy9c",
        "colab_type": "text"
      },
      "source": [
        "# 3. Simple Multiple Regression Analysis"
      ]
    },
    {
      "cell_type": "code",
      "metadata": {
        "id": "IjIqQ8YtWy9d",
        "colab_type": "code",
        "outputId": "9f34c1cd-0f7f-484f-caf6-2f75616c6e42",
        "colab": {
          "base_uri": "https://localhost:8080/",
          "height": 478
        }
      },
      "source": [
        "# 3. Perform a simple multiple regression analysis\n",
        "UC = df[\"Unique Clicks\"]\n",
        "RF = df[[\"Reach\",\"Frequency\"]]\n",
        "\n",
        "model = sm.OLS(UC, RF).fit()\n",
        "# make the predictions by the model\n",
        "predictions = model.predict(RF) \n",
        "\n",
        "model.summary()\n"
      ],
      "execution_count": 0,
      "outputs": [
        {
          "output_type": "execute_result",
          "data": {
            "text/html": [
              "<table class=\"simpletable\">\n",
              "<caption>OLS Regression Results</caption>\n",
              "<tr>\n",
              "  <th>Dep. Variable:</th>      <td>Unique Clicks</td>  <th>  R-squared (uncentered):</th>      <td>   0.557</td> \n",
              "</tr>\n",
              "<tr>\n",
              "  <th>Model:</th>                   <td>OLS</td>       <th>  Adj. R-squared (uncentered):</th> <td>   0.556</td> \n",
              "</tr>\n",
              "<tr>\n",
              "  <th>Method:</th>             <td>Least Squares</td>  <th>  F-statistic:       </th>          <td>   2325.</td> \n",
              "</tr>\n",
              "<tr>\n",
              "  <th>Date:</th>             <td>Thu, 14 Nov 2019</td> <th>  Prob (F-statistic):</th>           <td>  0.00</td>  \n",
              "</tr>\n",
              "<tr>\n",
              "  <th>Time:</th>                 <td>01:05:43</td>     <th>  Log-Likelihood:    </th>          <td> -15973.</td> \n",
              "</tr>\n",
              "<tr>\n",
              "  <th>No. Observations:</th>      <td>  3705</td>      <th>  AIC:               </th>          <td>3.195e+04</td>\n",
              "</tr>\n",
              "<tr>\n",
              "  <th>Df Residuals:</th>          <td>  3703</td>      <th>  BIC:               </th>          <td>3.196e+04</td>\n",
              "</tr>\n",
              "<tr>\n",
              "  <th>Df Model:</th>              <td>     2</td>      <th>                     </th>              <td> </td>    \n",
              "</tr>\n",
              "<tr>\n",
              "  <th>Covariance Type:</th>      <td>nonrobust</td>    <th>                     </th>              <td> </td>    \n",
              "</tr>\n",
              "</table>\n",
              "<table class=\"simpletable\">\n",
              "<tr>\n",
              "      <td></td>         <th>coef</th>     <th>std err</th>      <th>t</th>      <th>P>|t|</th>  <th>[0.025</th>    <th>0.975]</th>  \n",
              "</tr>\n",
              "<tr>\n",
              "  <th>Reach</th>     <td>    0.0019</td> <td> 3.12e-05</td> <td>   62.490</td> <td> 0.000</td> <td>    0.002</td> <td>    0.002</td>\n",
              "</tr>\n",
              "<tr>\n",
              "  <th>Frequency</th> <td>    3.6139</td> <td>    0.298</td> <td>   12.109</td> <td> 0.000</td> <td>    3.029</td> <td>    4.199</td>\n",
              "</tr>\n",
              "</table>\n",
              "<table class=\"simpletable\">\n",
              "<tr>\n",
              "  <th>Omnibus:</th>       <td>5107.616</td> <th>  Durbin-Watson:     </th>  <td>   0.803</td>  \n",
              "</tr>\n",
              "<tr>\n",
              "  <th>Prob(Omnibus):</th>  <td> 0.000</td>  <th>  Jarque-Bera (JB):  </th> <td>5128392.747</td>\n",
              "</tr>\n",
              "<tr>\n",
              "  <th>Skew:</th>           <td> 7.331</td>  <th>  Prob(JB):          </th>  <td>    0.00</td>  \n",
              "</tr>\n",
              "<tr>\n",
              "  <th>Kurtosis:</th>       <td>184.674</td> <th>  Cond. No.          </th>  <td>9.84e+03</td>  \n",
              "</tr>\n",
              "</table><br/><br/>Warnings:<br/>[1] Standard Errors assume that the covariance matrix of the errors is correctly specified.<br/>[2] The condition number is large, 9.84e+03. This might indicate that there are<br/>strong multicollinearity or other numerical problems."
            ],
            "text/plain": [
              "<class 'statsmodels.iolib.summary.Summary'>\n",
              "\"\"\"\n",
              "                                 OLS Regression Results                                \n",
              "=======================================================================================\n",
              "Dep. Variable:          Unique Clicks   R-squared (uncentered):                   0.557\n",
              "Model:                            OLS   Adj. R-squared (uncentered):              0.556\n",
              "Method:                 Least Squares   F-statistic:                              2325.\n",
              "Date:                Thu, 14 Nov 2019   Prob (F-statistic):                        0.00\n",
              "Time:                        01:05:43   Log-Likelihood:                         -15973.\n",
              "No. Observations:                3705   AIC:                                  3.195e+04\n",
              "Df Residuals:                    3703   BIC:                                  3.196e+04\n",
              "Df Model:                           2                                                  \n",
              "Covariance Type:            nonrobust                                                  \n",
              "==============================================================================\n",
              "                 coef    std err          t      P>|t|      [0.025      0.975]\n",
              "------------------------------------------------------------------------------\n",
              "Reach          0.0019   3.12e-05     62.490      0.000       0.002       0.002\n",
              "Frequency      3.6139      0.298     12.109      0.000       3.029       4.199\n",
              "==============================================================================\n",
              "Omnibus:                     5107.616   Durbin-Watson:                   0.803\n",
              "Prob(Omnibus):                  0.000   Jarque-Bera (JB):          5128392.747\n",
              "Skew:                           7.331   Prob(JB):                         0.00\n",
              "Kurtosis:                     184.674   Cond. No.                     9.84e+03\n",
              "==============================================================================\n",
              "\n",
              "Warnings:\n",
              "[1] Standard Errors assume that the covariance matrix of the errors is correctly specified.\n",
              "[2] The condition number is large, 9.84e+03. This might indicate that there are\n",
              "strong multicollinearity or other numerical problems.\n",
              "\"\"\""
            ]
          },
          "metadata": {
            "tags": []
          },
          "execution_count": 34
        }
      ]
    },
    {
      "cell_type": "code",
      "metadata": {
        "id": "AIV1nXdXWy9g",
        "colab_type": "code",
        "outputId": "39c7bc89-37b7-47c5-c269-7fe08d61951d",
        "colab": {
          "base_uri": "https://localhost:8080/",
          "height": 161
        }
      },
      "source": [
        "# Maybe bot useful, but good modle to evaluate my conclusion\n",
        "x1=df[['Reach','Frequency']]\n",
        "y1=df['Unique Clicks']\n",
        "regr = linear_model.LinearRegression()\n",
        "regr.fit(x1, y1)\n",
        "\n",
        "print (\"Using Linear_model from sklearn\")\n",
        "print('Intercept: \\n', regr.intercept_)\n",
        "print('Coefficients: \\n', regr.coef_)\n",
        "    \n",
        "#predicted Y for the regression model\n",
        "predictions = regr.predict(x1)\n",
        "print(predictions)\n",
        "\n",
        "# r2 value\n",
        "print(\" R squared value is \", regr.score(x1,y1))"
      ],
      "execution_count": 0,
      "outputs": [
        {
          "output_type": "stream",
          "text": [
            "Using Linear_model from sklearn\n",
            "Intercept: \n",
            " 29.227730390224757\n",
            "Coefficients: \n",
            " [ 2.06474936e-03 -2.50632823e+01]\n",
            "[545.46559791 433.95502979 519.77018255 ...   4.39363526   4.45970724\n",
            "  11.70488637]\n",
            " R squared value is  0.534339731180361\n"
          ],
          "name": "stdout"
        }
      ]
    },
    {
      "cell_type": "code",
      "metadata": {
        "id": "HAXaGkm8Wy9k",
        "colab_type": "code",
        "outputId": "1bf17bcc-32cc-44f4-a92b-2a099703cec9",
        "colab": {
          "base_uri": "https://localhost:8080/",
          "height": 35
        }
      },
      "source": [
        "print(\"Frequency most strongly predicts unique clicks since it has a greater co efficient.It means as the Frequency increases by 1, the predicted value of Unique Clicks increases by 3.6139.\")"
      ],
      "execution_count": 0,
      "outputs": [
        {
          "output_type": "stream",
          "text": [
            "Frequency most strongly predicts unique clicks since it has a greater co efficient.It means as the Frequency increases by 1, the predicted value of Unique Clicks increases by 3.6139.\n"
          ],
          "name": "stdout"
        }
      ]
    },
    {
      "cell_type": "code",
      "metadata": {
        "id": "N1iEe-TEWy9o",
        "colab_type": "code",
        "colab": {}
      },
      "source": [
        ""
      ],
      "execution_count": 0,
      "outputs": []
    }
  ]
}