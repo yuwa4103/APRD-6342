{
  "nbformat": 4,
  "nbformat_minor": 0,
  "metadata": {
    "colab": {
      "name": "Python Exercise 4: Using CensusReporter to Make Geographic Selections",
      "provenance": []
    },
    "kernelspec": {
      "name": "python3",
      "display_name": "Python 3"
    }
  },
  "cells": [
    {
      "cell_type": "code",
      "metadata": {
        "id": "QQhwCjNYID2l",
        "colab_type": "code",
        "colab": {}
      },
      "source": [
        "import pandas as pd\n",
        "import pandas\n",
        "import requests\n",
        "import json\n",
        "import urllib \n",
        "from urllib.request import Request, urlopen"
      ],
      "execution_count": 0,
      "outputs": []
    },
    {
      "cell_type": "code",
      "metadata": {
        "id": "51nIp1J-IK5s",
        "colab_type": "code",
        "outputId": "7c95b2b5-4a3b-4354-b613-062f540b8b26",
        "colab": {
          "base_uri": "https://localhost:8080/",
          "height": 347
        }
      },
      "source": [
        "DATA_URL = 'https://s3.amazonaws.com/vargo.aprd6342/data/msas.csv'\n",
        "df = pd.read_csv(DATA_URL)\n",
        "df.head(10)"
      ],
      "execution_count": 0,
      "outputs": [
        {
          "output_type": "execute_result",
          "data": {
            "text/html": [
              "<div>\n",
              "<style scoped>\n",
              "    .dataframe tbody tr th:only-of-type {\n",
              "        vertical-align: middle;\n",
              "    }\n",
              "\n",
              "    .dataframe tbody tr th {\n",
              "        vertical-align: top;\n",
              "    }\n",
              "\n",
              "    .dataframe thead th {\n",
              "        text-align: right;\n",
              "    }\n",
              "</style>\n",
              "<table border=\"1\" class=\"dataframe\">\n",
              "  <thead>\n",
              "    <tr style=\"text-align: right;\">\n",
              "      <th></th>\n",
              "      <th>CBSA</th>\n",
              "      <th>NAME</th>\n",
              "      <th>POPESTIMATE2017</th>\n",
              "    </tr>\n",
              "  </thead>\n",
              "  <tbody>\n",
              "    <tr>\n",
              "      <th>0</th>\n",
              "      <td>10180</td>\n",
              "      <td>Abilene, TX</td>\n",
              "      <td>170219</td>\n",
              "    </tr>\n",
              "    <tr>\n",
              "      <th>1</th>\n",
              "      <td>10420</td>\n",
              "      <td>Akron, OH</td>\n",
              "      <td>703505</td>\n",
              "    </tr>\n",
              "    <tr>\n",
              "      <th>2</th>\n",
              "      <td>10500</td>\n",
              "      <td>Albany, GA</td>\n",
              "      <td>151434</td>\n",
              "    </tr>\n",
              "    <tr>\n",
              "      <th>3</th>\n",
              "      <td>10540</td>\n",
              "      <td>Albany, OR</td>\n",
              "      <td>125047</td>\n",
              "    </tr>\n",
              "    <tr>\n",
              "      <th>4</th>\n",
              "      <td>10580</td>\n",
              "      <td>Albany-Schenectady-Troy, NY</td>\n",
              "      <td>886188</td>\n",
              "    </tr>\n",
              "    <tr>\n",
              "      <th>5</th>\n",
              "      <td>10740</td>\n",
              "      <td>Albuquerque, NM</td>\n",
              "      <td>910726</td>\n",
              "    </tr>\n",
              "    <tr>\n",
              "      <th>6</th>\n",
              "      <td>10780</td>\n",
              "      <td>Alexandria, LA</td>\n",
              "      <td>153984</td>\n",
              "    </tr>\n",
              "    <tr>\n",
              "      <th>7</th>\n",
              "      <td>10900</td>\n",
              "      <td>Allentown-Bethlehem-Easton, PA-NJ</td>\n",
              "      <td>840550</td>\n",
              "    </tr>\n",
              "    <tr>\n",
              "      <th>8</th>\n",
              "      <td>11020</td>\n",
              "      <td>Altoona, PA</td>\n",
              "      <td>123457</td>\n",
              "    </tr>\n",
              "    <tr>\n",
              "      <th>9</th>\n",
              "      <td>11100</td>\n",
              "      <td>Amarillo, TX</td>\n",
              "      <td>264925</td>\n",
              "    </tr>\n",
              "  </tbody>\n",
              "</table>\n",
              "</div>"
            ],
            "text/plain": [
              "    CBSA                               NAME  POPESTIMATE2017\n",
              "0  10180                        Abilene, TX           170219\n",
              "1  10420                          Akron, OH           703505\n",
              "2  10500                         Albany, GA           151434\n",
              "3  10540                         Albany, OR           125047\n",
              "4  10580        Albany-Schenectady-Troy, NY           886188\n",
              "5  10740                    Albuquerque, NM           910726\n",
              "6  10780                     Alexandria, LA           153984\n",
              "7  10900  Allentown-Bethlehem-Easton, PA-NJ           840550\n",
              "8  11020                        Altoona, PA           123457\n",
              "9  11100                       Amarillo, TX           264925"
            ]
          },
          "metadata": {
            "tags": []
          },
          "execution_count": 128
        }
      ]
    },
    {
      "cell_type": "code",
      "metadata": {
        "id": "tJ9tcKbsIXXx",
        "colab_type": "code",
        "colab": {}
      },
      "source": [
        "# seperate the data as 2 parts, then change the type\n",
        "geoid = \"31000US\" + df[\"CBSA\"].astype(str)\n",
        "half = geoid[:len(geoid)//2]\n",
        "rest = geoid[len(geoid)//2:]\n",
        "# join list together in a way that the api accepts\n",
        "half = ','.join(half)\n",
        "rest = ','.join(rest)"
      ],
      "execution_count": 0,
      "outputs": []
    },
    {
      "cell_type": "markdown",
      "metadata": {
        "id": "zXJp_g8_LRZf",
        "colab_type": "text"
      },
      "source": [
        "# Question 1:What city has the highest count of the audience you chose for parameter #1?"
      ]
    },
    {
      "cell_type": "code",
      "metadata": {
        "id": "bLqN61yMLkfq",
        "colab_type": "code",
        "colab": {}
      },
      "source": [
        "# make a python list of all the table ids you want to download\n",
        "tableidsQ1 = ['B19001']\n",
        "# join list together in a way that the api accepts\n",
        "tableidstringQ1 = ','.join(tableidsQ1)"
      ],
      "execution_count": 0,
      "outputs": []
    },
    {
      "cell_type": "code",
      "metadata": {
        "id": "_qFzZzrrMJyg",
        "colab_type": "code",
        "colab": {}
      },
      "source": [
        "# iterate over each of your metro areas and get the right data for each metro\n",
        "url = 'http://api.censusreporter.org/1.0/data/show/latest?table_ids=%s&geo_ids=%s' % (tableidstringQ1, half)\n",
        "loadedjson = requests.get(url)\n",
        "parsedjson1 = json.loads(loadedjson.text)\n",
        "url = 'http://api.censusreporter.org/1.0/data/show/latest?table_ids=%s&geo_ids=%s' % (tableidstringQ1, rest)\n",
        "loadedjson = requests.get(url)\n",
        "parsedjson2 = json.loads(loadedjson.text)"
      ],
      "execution_count": 0,
      "outputs": []
    },
    {
      "cell_type": "code",
      "metadata": {
        "id": "kLpBehnSNT85",
        "colab_type": "code",
        "colab": {}
      },
      "source": [
        "highest = pd.DataFrame(columns=['country', 'population'], index=list(range(1,len(geoid))))\n",
        "for i in list(range(1,len(geoid)//2)):\n",
        "    highest['country'][i]=[geoid[i]]\n",
        "    highest['population'][i] = parsedjson1['data'][geoid[i]]['B19001']['estimate']['B19001011'] + parsedjson1['data'][geoid[i]]['B19001']['estimate']['B19001012']"
      ],
      "execution_count": 0,
      "outputs": []
    },
    {
      "cell_type": "code",
      "metadata": {
        "id": "2ADkILQPOVO0",
        "colab_type": "code",
        "colab": {}
      },
      "source": [
        "for i in list(range(192,len(geoid))):\n",
        "    highest['country'][i]=[geoid[i]]\n",
        "    highest['population'][i] = parsedjson2['data'][geoid[i]]['B19001']['estimate']['B19001011'] + parsedjson2['data'][geoid[i]]['B19001']['estimate']['B19001012']"
      ],
      "execution_count": 0,
      "outputs": []
    },
    {
      "cell_type": "code",
      "metadata": {
        "id": "ry-VAT97OYsN",
        "colab_type": "code",
        "outputId": "3dc7b2fd-83d2-487e-8208-56ae89f4cb95",
        "colab": {
          "base_uri": "https://localhost:8080/",
          "height": 50
        }
      },
      "source": [
        "print(highest.loc[highest['population'] == max(highest['population'])])"
      ],
      "execution_count": 0,
      "outputs": [
        {
          "output_type": "stream",
          "text": [
            "            country   population\n",
            "249  [31000US35620]  1.01121e+06\n"
          ],
          "name": "stdout"
        }
      ]
    },
    {
      "cell_type": "code",
      "metadata": {
        "id": "m_vl-OVnOdt1",
        "colab_type": "code",
        "outputId": "ec8b9cd5-def8-4069-c30e-a7abecb02982",
        "colab": {
          "base_uri": "https://localhost:8080/",
          "height": 50
        }
      },
      "source": [
        "print(df.loc[df['CBSA'] == 35620])"
      ],
      "execution_count": 0,
      "outputs": [
        {
          "output_type": "stream",
          "text": [
            "      CBSA                                   NAME  POPESTIMATE2017\n",
            "249  35620  New York-Newark-Jersey City, NY-NJ-PA         20320876\n"
          ],
          "name": "stdout"
        }
      ]
    },
    {
      "cell_type": "markdown",
      "metadata": {
        "id": "tUqdqTESQ2IP",
        "colab_type": "text"
      },
      "source": [
        "We should choose $50k to 74.9k which are 'B19001011' and 'B19001012'.\n",
        "\n",
        "New York-Newark-Jersey City, NY-NJ-PA has the highest count of average house hold income that ranged between 50k to 74.9k, which is 1.01121e+06."
      ]
    },
    {
      "cell_type": "markdown",
      "metadata": {
        "id": "425Pa1-FRtxE",
        "colab_type": "text"
      },
      "source": [
        "# Question 2: What city has the highest count of the audience you chose for parameter #2?"
      ]
    },
    {
      "cell_type": "code",
      "metadata": {
        "id": "EUp4JUqTRR7L",
        "colab_type": "code",
        "colab": {}
      },
      "source": [
        "tableidsQ2 = ['B01001']\n",
        "# join list together in a way that the api accepts\n",
        "tableidstringQ2 = ','.join(tableidsQ2)"
      ],
      "execution_count": 0,
      "outputs": []
    },
    {
      "cell_type": "code",
      "metadata": {
        "id": "LpO6wf2WR_ix",
        "colab_type": "code",
        "colab": {}
      },
      "source": [
        "# iterate over each of your metro areas and get the right data for each metro\n",
        "url = 'http://api.censusreporter.org/1.0/data/show/latest?table_ids=%s&geo_ids=%s' % (tableidstringQ2, half)\n",
        "loadedjson = requests.get(url)\n",
        "parsedjson11 = json.loads(loadedjson.text)\n",
        "url = 'http://api.censusreporter.org/1.0/data/show/latest?table_ids=%s&geo_ids=%s' % (tableidstringQ2, rest)\n",
        "loadedjson = requests.get(url)\n",
        "parsedjson22 = json.loads(loadedjson.text)"
      ],
      "execution_count": 0,
      "outputs": []
    },
    {
      "cell_type": "code",
      "metadata": {
        "id": "AIVkhGMdS76n",
        "colab_type": "code",
        "colab": {}
      },
      "source": [
        "age_range = ['B01001007','B01001008','B01001009','B01001010','B01001011','B01001012']\n",
        "newdf = pd.DataFrame(columns=['location', 'population'], index=list(range(1,len(geoid))))"
      ],
      "execution_count": 0,
      "outputs": []
    },
    {
      "cell_type": "code",
      "metadata": {
        "id": "bWvaruyuTIH1",
        "colab_type": "code",
        "colab": {}
      },
      "source": [
        "# parsed json file\n",
        "for i in list(range(1,len(geoid)//2)):\n",
        "    newdf['location'][i]=[geoid[i]]\n",
        "    newdf['population'][i] = parsedjson11['data'][geoid[i]]['B01001']['estimate'][age_range[0]] + parsedjson11['data'][geoid[i]]['B01001']['estimate'][age_range[1]] + parsedjson11['data'][geoid[i]]['B01001']['estimate'][age_range[2]] + parsedjson11['data'][geoid[i]]['B01001']['estimate'][age_range[3]] + parsedjson11['data'][geoid[i]]['B01001']['estimate'][age_range[4]] + parsedjson11['data'][geoid[i]]['B01001']['estimate'][age_range[5]] \n",
        "    \n",
        "for i in list(range(192,len(geoid))):\n",
        "    newdf['location'][i]=[geoid[i]]\n",
        "    newdf['population'][i] = parsedjson22['data'][geoid[i]]['B01001']['estimate'][age_range[0]] + parsedjson22['data'][geoid[i]]['B01001']['estimate'][age_range[1]] + parsedjson22['data'][geoid[i]]['B01001']['estimate'][age_range[2]] + parsedjson22['data'][geoid[i]]['B01001']['estimate'][age_range[3]] + parsedjson22['data'][geoid[i]]['B01001']['estimate'][age_range[4]] + parsedjson22['data'][geoid[i]]['B01001']['estimate'][age_range[5]]"
      ],
      "execution_count": 0,
      "outputs": []
    },
    {
      "cell_type": "code",
      "metadata": {
        "id": "VI3TVKhPVEFk",
        "colab_type": "code",
        "outputId": "3638ceda-4c55-4a89-fa78-51a90791e21c",
        "colab": {
          "base_uri": "https://localhost:8080/",
          "height": 50
        }
      },
      "source": [
        "print(newdf.loc[newdf['population'] == max(newdf['population'])])"
      ],
      "execution_count": 0,
      "outputs": [
        {
          "output_type": "stream",
          "text": [
            "           location   population\n",
            "249  [31000US35620]  2.33054e+06\n"
          ],
          "name": "stdout"
        }
      ]
    },
    {
      "cell_type": "code",
      "metadata": {
        "id": "SFxO4qbrVPkO",
        "colab_type": "code",
        "outputId": "1b30c7cd-fd7a-4065-b45d-17fe125f9329",
        "colab": {
          "base_uri": "https://localhost:8080/",
          "height": 50
        }
      },
      "source": [
        "print(df.loc[df['CBSA'] == 35620])"
      ],
      "execution_count": 0,
      "outputs": [
        {
          "output_type": "stream",
          "text": [
            "      CBSA                                   NAME  POPESTIMATE2017\n",
            "249  35620  New York-Newark-Jersey City, NY-NJ-PA         20320876\n"
          ],
          "name": "stdout"
        }
      ]
    },
    {
      "cell_type": "markdown",
      "metadata": {
        "id": "sgWpt5WxVWIV",
        "colab_type": "text"
      },
      "source": [
        "We should choose age range 18-34:\n",
        "'B01001007', 'B01001008', 'B01001009', 'B01001010', 'B01001011', 'B01001012'\n",
        "\n",
        "New York-Newark-Jersey City, NY-NJ-PA has the highest count of age range 18-34, which is 2.33054e+06."
      ]
    },
    {
      "cell_type": "markdown",
      "metadata": {
        "id": "LOXUA9POWd_k",
        "colab_type": "text"
      },
      "source": [
        "# Question 3: What city has the highest count of the audience you chose for parameter #3?"
      ]
    },
    {
      "cell_type": "code",
      "metadata": {
        "id": "GlcNs6RiWdR5",
        "colab_type": "code",
        "colab": {}
      },
      "source": [
        "tableidsQ3 = ['B03003']\n",
        "# join list together in a way that the api accepts\n",
        "tableidstringQ3 = ','.join(tableidsQ3)"
      ],
      "execution_count": 0,
      "outputs": []
    },
    {
      "cell_type": "code",
      "metadata": {
        "id": "DPUsY26AW0xa",
        "colab_type": "code",
        "colab": {}
      },
      "source": [
        "# iterate over each of your metro areas and get the right data for each metro\n",
        "url = 'http://api.censusreporter.org/1.0/data/show/latest?table_ids=%s&geo_ids=%s' % (tableidstringQ3, half)\n",
        "loadedjson = requests.get(url)\n",
        "parsedjson111 = json.loads(loadedjson.text)\n",
        "url = 'http://api.censusreporter.org/1.0/data/show/latest?table_ids=%s&geo_ids=%s' % (tableidstringQ3, rest)\n",
        "loadedjson = requests.get(url)\n",
        "parsedjson222 = json.loads(loadedjson.text)"
      ],
      "execution_count": 0,
      "outputs": []
    },
    {
      "cell_type": "code",
      "metadata": {
        "id": "SpJqnCG6XAf-",
        "colab_type": "code",
        "colab": {}
      },
      "source": [
        "highest2 = pd.DataFrame(columns=['location', 'population'], index=list(range(1,len(geoid))))"
      ],
      "execution_count": 0,
      "outputs": []
    },
    {
      "cell_type": "code",
      "metadata": {
        "id": "apSu_G4hXFg7",
        "colab_type": "code",
        "colab": {}
      },
      "source": [
        "# parsed json file\n",
        "for i in list(range(1,len(geoid)//2)):\n",
        "    highest2['location'][i]=[geoid[i]]\n",
        "    highest2['population'][i] = parsedjson111['data'][geoid[i]]['B03003']['estimate']['B03003003'] \n",
        "for i in list(range(192,len(geoid))):\n",
        "    highest2['location'][i]=[geoid[i]]\n",
        "    highest2['population'][i] = parsedjson222['data'][geoid[i]]['B03003']['estimate']['B03003003']"
      ],
      "execution_count": 0,
      "outputs": []
    },
    {
      "cell_type": "code",
      "metadata": {
        "id": "Zg0Hctnjal65",
        "colab_type": "code",
        "outputId": "afcbad24-31d6-4fbc-be64-5c71d0214745",
        "colab": {
          "base_uri": "https://localhost:8080/",
          "height": 50
        }
      },
      "source": [
        "print(highest2.loc[highest2['population'] == max(highest2['population'])])"
      ],
      "execution_count": 0,
      "outputs": [
        {
          "output_type": "stream",
          "text": [
            "           location   population\n",
            "210  [31000US31080]  6.00354e+06\n"
          ],
          "name": "stdout"
        }
      ]
    },
    {
      "cell_type": "code",
      "metadata": {
        "id": "JsvdBiwDavky",
        "colab_type": "code",
        "outputId": "14e72ae5-63ee-4f53-924f-4fa7eed3b02b",
        "colab": {
          "base_uri": "https://localhost:8080/",
          "height": 50
        }
      },
      "source": [
        "print(df.loc[df['CBSA'] == 31080])"
      ],
      "execution_count": 0,
      "outputs": [
        {
          "output_type": "stream",
          "text": [
            "      CBSA                                NAME  POPESTIMATE2017\n",
            "210  31080  Los Angeles-Long Beach-Anaheim, CA         13353907\n"
          ],
          "name": "stdout"
        }
      ]
    },
    {
      "cell_type": "markdown",
      "metadata": {
        "id": "8QKs87mla4Fi",
        "colab_type": "text"
      },
      "source": [
        "The Hispanic code would be B03003003.\n",
        "Los Angeles-Long Beach-Anaheim, CA has the highest count of hispanic, which is 6.00354e+06."
      ]
    },
    {
      "cell_type": "markdown",
      "metadata": {
        "id": "sTJb_KDtbXPi",
        "colab_type": "text"
      },
      "source": [
        "# Question 4:What city has the highest mean percentage across all three categories?"
      ]
    },
    {
      "cell_type": "code",
      "metadata": {
        "id": "7PVKIh9pbWF4",
        "colab_type": "code",
        "colab": {}
      },
      "source": [
        "# create new columns and calculate the percentages\n",
        "HH_Income_Percentage = []\n",
        "Pop_by_age_Percentage = []\n",
        "Pop_by_Hispanic_Percentage = []\n",
        "for i, row in highest.iterrows():\n",
        "    Percentage_Income = highest['population'][i]/max(highest['population'])\n",
        "    Percentage_Age = newdf['population'][i]/max(newdf['population'])\n",
        "    Percentage_Hispanic = highest2['population'][i]/max(highest2['population'])\n",
        "    HH_Income_Percentage.append(Percentage_Income)\n",
        "    Pop_by_age_Percentage.append(Percentage_Age)\n",
        "    Pop_by_Hispanic_Percentage.append(Percentage_Hispanic)"
      ],
      "execution_count": 0,
      "outputs": []
    },
    {
      "cell_type": "code",
      "metadata": {
        "id": "8OTVkEYTbl5D",
        "colab_type": "code",
        "colab": {}
      },
      "source": [
        "highest['percentage'] = HH_Income_Percentage\n",
        "newdf['percentage'] = Pop_by_age_Percentage\n",
        "highest2['percentage'] = Pop_by_Hispanic_Percentage"
      ],
      "execution_count": 0,
      "outputs": []
    },
    {
      "cell_type": "code",
      "metadata": {
        "id": "GYAqZIGfbsBr",
        "colab_type": "code",
        "colab": {}
      },
      "source": [
        "Highmean = []\n",
        "for i, row in highest.iterrows():\n",
        "    Mean = (highest['percentage'][i] + newdf['percentage'][i]+ highest2['percentage'][i])/3\n",
        "    Highmean.append(Mean)\n",
        "highest['percentage mean'] = Highmean"
      ],
      "execution_count": 0,
      "outputs": []
    },
    {
      "cell_type": "code",
      "metadata": {
        "id": "ChlQmhi1crIY",
        "colab_type": "code",
        "outputId": "7ceaba3e-c8cf-42d6-e916-d104feac2da6",
        "colab": {
          "base_uri": "https://localhost:8080/",
          "height": 50
        }
      },
      "source": [
        "print(highest.loc[highest['percentage mean'] == max(highest['percentage mean'])])"
      ],
      "execution_count": 0,
      "outputs": [
        {
          "output_type": "stream",
          "text": [
            "            country   population  percentage  percentage mean\n",
            "249  [31000US35620]  1.01121e+06         1.0         0.940082\n"
          ],
          "name": "stdout"
        }
      ]
    },
    {
      "cell_type": "code",
      "metadata": {
        "id": "Zv2jMSvucwhE",
        "colab_type": "code",
        "outputId": "ff3acd28-bdd0-457e-86ae-3e024b3c7de1",
        "colab": {
          "base_uri": "https://localhost:8080/",
          "height": 50
        }
      },
      "source": [
        "print(df.loc[df['CBSA'] == 35620])"
      ],
      "execution_count": 0,
      "outputs": [
        {
          "output_type": "stream",
          "text": [
            "      CBSA                                   NAME  POPESTIMATE2017\n",
            "249  35620  New York-Newark-Jersey City, NY-NJ-PA         20320876\n"
          ],
          "name": "stdout"
        }
      ]
    },
    {
      "cell_type": "markdown",
      "metadata": {
        "id": "o9hphLvQdBV-",
        "colab_type": "text"
      },
      "source": [
        "New York-Newark-Jersey City, NY-NJ-PA has the highest percentage across all three categories, which is 0.940082."
      ]
    }
  ]
}